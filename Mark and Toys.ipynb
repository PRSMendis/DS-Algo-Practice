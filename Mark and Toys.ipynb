{
 "cells": [
  {
   "cell_type": "code",
   "execution_count": 16,
   "metadata": {},
   "outputs": [],
   "source": [
    "i2 = [7, 50]\n",
    "i1= [1, 12, 5, 111, 200, 1000, 10]\n",
    "\n"
   ]
  },
  {
   "cell_type": "code",
   "execution_count": 17,
   "metadata": {},
   "outputs": [],
   "source": [
    "# Complete the maximumToys function below.\n",
    "def maximumToys(prices, k):\n",
    "    \n",
    "    count = 0\n",
    "    \n",
    "    bank = prices[1]\n",
    "    k.sort()\n",
    "    \n",
    "    for cost in k:\n",
    "        if cost > bank:\n",
    "            break\n",
    "        else:\n",
    "            bank -= cost\n",
    "            count += 1\n",
    "    \n",
    "    \n",
    "    \n",
    "    \n",
    "    return count\n",
    "    \n",
    "    "
   ]
  },
  {
   "cell_type": "code",
   "execution_count": 18,
   "metadata": {},
   "outputs": [
    {
     "data": {
      "text/plain": [
       "1"
      ]
     },
     "execution_count": 18,
     "metadata": {},
     "output_type": "execute_result"
    }
   ],
   "source": [
    "maximumToys(i1, i2)"
   ]
  },
  {
   "cell_type": "code",
   "execution_count": 19,
   "metadata": {},
   "outputs": [],
   "source": [
    "# Complete the maximumToys function below.\n",
    "def maximumToys(prices, k):\n",
    "    \n",
    "    count = 0\n",
    "    \n",
    "    bank = k[1]\n",
    "    prices.sort()\n",
    "    \n",
    "    for cost in prices:\n",
    "        if cost > bank:\n",
    "            break\n",
    "        else:\n",
    "            bank -= cost\n",
    "            count += 1\n",
    "    \n",
    "    \n",
    "    \n",
    "    \n",
    "    return count\n",
    "    \n",
    "    "
   ]
  },
  {
   "cell_type": "code",
   "execution_count": 20,
   "metadata": {},
   "outputs": [
    {
     "data": {
      "text/plain": [
       "4"
      ]
     },
     "execution_count": 20,
     "metadata": {},
     "output_type": "execute_result"
    }
   ],
   "source": [
    "maximumToys(i1, i2)"
   ]
  },
  {
   "cell_type": "code",
   "execution_count": null,
   "metadata": {},
   "outputs": [],
   "source": []
  },
  {
   "cell_type": "code",
   "execution_count": null,
   "metadata": {},
   "outputs": [],
   "source": []
  }
 ],
 "metadata": {
  "kernelspec": {
   "display_name": "Python 3",
   "language": "python",
   "name": "python3"
  },
  "language_info": {
   "codemirror_mode": {
    "name": "ipython",
    "version": 3
   },
   "file_extension": ".py",
   "mimetype": "text/x-python",
   "name": "python",
   "nbconvert_exporter": "python",
   "pygments_lexer": "ipython3",
   "version": "3.7.4"
  }
 },
 "nbformat": 4,
 "nbformat_minor": 2
}
