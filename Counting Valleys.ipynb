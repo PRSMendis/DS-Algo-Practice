{
 "cells": [
  {
   "cell_type": "code",
   "execution_count": 59,
   "metadata": {},
   "outputs": [],
   "source": [
    "#!/bin/python3\n",
    "\n",
    "import math\n",
    "import os\n",
    "import random\n",
    "import re\n",
    "import sys\n",
    "\n",
    "# Complete the countingValleys function below.\n",
    "def countingValleys(n, s):\n",
    "    \n",
    "    '''A valley is a sequence of consecutive steps below sea level,\n",
    "    starting with a step down from sea level and ending with a step up to sea level.'''\n",
    "    \n",
    "    \n",
    "    level = 0\n",
    "    lst = []\n",
    "    vcount = 0\n",
    "    \n",
    "    for i in range(len(s)):\n",
    "        if s[i] == \"U\":\n",
    "            level += 1\n",
    "            #print(level)\n",
    "            lst.append(level)\n",
    "        elif s[i] == \"D\":\n",
    "            level -= 1\n",
    "            lst.append(level)\n",
    "            #print(i)\n",
    "        print(lst)\n",
    "      \n",
    "    for j in range (len(lst)-2):\n",
    "#         print(lst[j+1])\n",
    "#         if (lst[j] > lst[j+1] > lst[j+2]) and  \n",
    "# Check if j+1 is a valley\n",
    "#         if lst[j+1] < 0 and lst[j+2] > lst[j+1] < lst[j]:\n",
    "#             vcount += 1\n",
    "#         elif lst[j+1] < 0:\n",
    "\n",
    "\n",
    "    while lst[j] < 0 and lst[j+1] < lst[j]\n",
    "            \n",
    "            \n",
    "    return vcount\n",
    "        \n",
    "            \n",
    "\n",
    "        \n",
    "        \n",
    "\n",
    "        \n",
    "        \n",
    "        \n",
    "\n",
    "    \n",
    "\n",
    "\n"
   ]
  },
  {
   "cell_type": "code",
   "execution_count": 60,
   "metadata": {},
   "outputs": [
    {
     "name": "stdout",
     "output_type": "stream",
     "text": [
      "[-1]\n",
      "[-1, -2]\n",
      "[-1, -2, -1]\n",
      "[-1, -2, -1, 0]\n",
      "[-1, -2, -1, 0, 1]\n",
      "[-1, -2, -1, 0, 1, 2]\n",
      "[-1, -2, -1, 0, 1, 2, 1]\n",
      "[-1, -2, -1, 0, 1, 2, 1, 0]\n"
     ]
    },
    {
     "data": {
      "text/plain": [
       "2"
      ]
     },
     "execution_count": 60,
     "metadata": {},
     "output_type": "execute_result"
    }
   ],
   "source": [
    "n = 8\n",
    "s = \"DDUUUUDD\"\n",
    "countingValleys(n,s)"
   ]
  },
  {
   "cell_type": "code",
   "execution_count": 61,
   "metadata": {},
   "outputs": [],
   "source": [
    "# if __name__ == '__main__':\n",
    "#     fptr = open(os.environ['OUTPUT_PATH'], 'w')\n",
    "\n",
    "#     n = int(input())\n",
    "\n",
    "#     s = input()\n",
    "\n",
    "#     result = countingValleys(n, s)\n",
    "\n",
    "#     fptr.write(str(result) + '\\n')\n",
    "\n",
    "#     fptr.close()"
   ]
  },
  {
   "cell_type": "code",
   "execution_count": 75,
   "metadata": {},
   "outputs": [],
   "source": [
    "def countingValleys(n,s):\n",
    "    '''\n",
    "    A valley is a sequence of consecutive steps below sea level,\n",
    "     starting with a step down from sea level and ending with a step up to sea level.\n",
    "    '''\n",
    "    \n",
    "    count = 0\n",
    "    valleycount = 0\n",
    "    depth = 0\n",
    "    dcheck = True\n",
    "    \n",
    "    \n",
    "    for i in range(0, len(s)):\n",
    "        #print(s[i])\n",
    "        if s[i] == \"U\":\n",
    "            \n",
    "            if count == -1:\n",
    "                valleycount += 1\n",
    "            count +=1\n",
    "                \n",
    "        elif s[i] == \"D\":\n",
    "            count -= 1\n",
    "            \n",
    "\n",
    "            \n",
    "    return valleycount\n",
    "            "
   ]
  },
  {
   "cell_type": "code",
   "execution_count": 73,
   "metadata": {},
   "outputs": [
    {
     "data": {
      "text/plain": [
       "1"
      ]
     },
     "execution_count": 73,
     "metadata": {},
     "output_type": "execute_result"
    }
   ],
   "source": [
    "n = 8\n",
    "s = \"DDUUUUDD\"\n",
    "countingValleys(n,s)"
   ]
  },
  {
   "cell_type": "code",
   "execution_count": 74,
   "metadata": {},
   "outputs": [
    {
     "data": {
      "text/plain": [
       "1"
      ]
     },
     "execution_count": 74,
     "metadata": {},
     "output_type": "execute_result"
    }
   ],
   "source": [
    "n = 8\n",
    "s = \"DUDDUUDD\"\n",
    "countingValleys(n,s)"
   ]
  },
  {
   "cell_type": "code",
   "execution_count": null,
   "metadata": {},
   "outputs": [],
   "source": []
  }
 ],
 "metadata": {
  "kernelspec": {
   "display_name": "Python 3",
   "language": "python",
   "name": "python3"
  },
  "language_info": {
   "codemirror_mode": {
    "name": "ipython",
    "version": 3
   },
   "file_extension": ".py",
   "mimetype": "text/x-python",
   "name": "python",
   "nbconvert_exporter": "python",
   "pygments_lexer": "ipython3",
   "version": "3.7.4"
  }
 },
 "nbformat": 4,
 "nbformat_minor": 2
}
