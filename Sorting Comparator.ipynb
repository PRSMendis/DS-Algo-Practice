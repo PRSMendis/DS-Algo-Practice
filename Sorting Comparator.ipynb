{
 "cells": [
  {
   "cell_type": "code",
   "execution_count": 1,
   "metadata": {},
   "outputs": [
    {
     "ename": "IndentationError",
     "evalue": "expected an indented block (<ipython-input-1-c68cde17c385>, line 11)",
     "output_type": "error",
     "traceback": [
      "\u001b[1;36m  File \u001b[1;32m\"<ipython-input-1-c68cde17c385>\"\u001b[1;36m, line \u001b[1;32m11\u001b[0m\n\u001b[1;33m    def comparator(a, b):\u001b[0m\n\u001b[1;37m      ^\u001b[0m\n\u001b[1;31mIndentationError\u001b[0m\u001b[1;31m:\u001b[0m expected an indented block\n"
     ]
    }
   ],
   "source": [
    "from functools import cmp_to_key\n",
    "\n",
    "\n",
    "class Player:\n",
    "    def __init__(self, name, score):\n",
    "        self.name = name\n",
    "        self.score = score\n",
    "        \n",
    "    def __repr__(self):\n",
    "        \n",
    "    def comparator(a, b):\n",
    "        if a.score > b.score:\n",
    "            return a\n",
    "        elif a.score == b.score:\n",
    "            a.name[0] > b.name[0]\n",
    "            \n",
    "        else:\n",
    "            return b\n",
    "    \n",
    "    def __len__(self):\n",
    "        self.len = score"
   ]
  },
  {
   "cell_type": "code",
   "execution_count": 3,
   "metadata": {},
   "outputs": [],
   "source": [
    "from functools import cmp_to_key\n",
    "\n",
    "\n",
    "class Player:\n",
    "    def __init__(self, name, score):\n",
    "        self.name = name\n",
    "        self.score = score\n",
    "        \n",
    "    def __repr__(self):\n",
    "        print(f\" {self.name} {self.score}\")\n",
    "        \n",
    "    def comparator(a, b):\n",
    "        if a.score < b.score:\n",
    "            return -1\n",
    "        elif a.score == b.score:\n",
    "            return 0\n",
    "        elif a.score > b.score:\n",
    "            return 1\n",
    "        \n"
   ]
  },
  {
   "cell_type": "code",
   "execution_count": 4,
   "metadata": {},
   "outputs": [],
   "source": [
    "from functools import cmp_to_key\n",
    "class Player:\n",
    "    def __init__(self, name, score):\n",
    "        self.name = name\n",
    "        self.score = score\n",
    "        \n",
    "    def __repr__(self):\n",
    "        print(f\" {self.name} {self.score}\")\n",
    "        \n",
    "    def comparator(b, a):\n",
    "        if a.score > b.score:\n",
    "            return 1\n",
    "        elif a.score == b.score:\n",
    "            if a.name > b.name:\n",
    "                return -1\n",
    "            else:\n",
    "                return 1\n",
    "\n",
    "            \n",
    "            return 0\n",
    "        elif a.score < b.score:\n",
    "            return -1"
   ]
  },
  {
   "cell_type": "code",
   "execution_count": null,
   "metadata": {},
   "outputs": [],
   "source": []
  }
 ],
 "metadata": {
  "kernelspec": {
   "display_name": "Python 3",
   "language": "python",
   "name": "python3"
  },
  "language_info": {
   "codemirror_mode": {
    "name": "ipython",
    "version": 3
   },
   "file_extension": ".py",
   "mimetype": "text/x-python",
   "name": "python",
   "nbconvert_exporter": "python",
   "pygments_lexer": "ipython3",
   "version": "3.7.4"
  }
 },
 "nbformat": 4,
 "nbformat_minor": 2
}
