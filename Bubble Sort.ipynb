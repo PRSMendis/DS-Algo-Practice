{
 "cells": [
  {
   "cell_type": "markdown",
   "metadata": {},
   "source": [
    "for (int i = 0; i < n; i++) {\n",
    "    \n",
    "    for (int j = 0; j < n - 1; j++) {\n",
    "        // Swap adjacent elements if they are in decreasing order\n",
    "        if (a[j] > a[j + 1]) {\n",
    "            swap(a[j], a[j + 1]);\n",
    "        }\n",
    "    }\n",
    "    \n",
    "}\n",
    "Given an array of integers, sort the array in ascending order using the Bubble Sort algorithm above. Once sorted, print the following three lines:\n",
    "\n",
    "Array is sorted in numSwaps swaps., where  is the number of swaps that took place.\n",
    "First Element: firstElement, where  is the first element in the sorted array.\n",
    "Last Element: lastElement, where  is the last element in the sorted array."
   ]
  },
  {
   "cell_type": "code",
   "execution_count": 31,
   "metadata": {},
   "outputs": [],
   "source": [
    "#Complete the countSwaps function below.\n",
    "\n",
    "def countSwaps(a):\n",
    "    \n",
    "    scount = 0\n",
    "    \n",
    "    for i in range(len(a)):\n",
    "        \n",
    "        for j in range(len(a)-1):\n",
    "            \n",
    "            if a[j] > a[j+1] :\n",
    "                \n",
    "                a[j], a[j+1] = a[j+1], a[j]\n",
    "                scount +=1\n",
    "                \n",
    "    #return a[0] , a[-1] , scount\n",
    "    print(\"Array is sorted in {} swaps.\".format(scount))\n",
    "    print(\"First Element: {}\".format(a[0]))\n",
    "    print(\"Last Element: {}\".format(a[-1]))\n",
    "                "
   ]
  },
  {
   "cell_type": "code",
   "execution_count": 32,
   "metadata": {},
   "outputs": [],
   "source": [
    "a = [3, 2, 1]"
   ]
  },
  {
   "cell_type": "code",
   "execution_count": 33,
   "metadata": {},
   "outputs": [
    {
     "name": "stdout",
     "output_type": "stream",
     "text": [
      "Array is sorted in 3 swaps.\n",
      "First Element: 1\n",
      "Last Element: 3\n"
     ]
    }
   ],
   "source": [
    "countSwaps(a)"
   ]
  },
  {
   "cell_type": "code",
   "execution_count": null,
   "metadata": {},
   "outputs": [],
   "source": []
  },
  {
   "cell_type": "code",
   "execution_count": null,
   "metadata": {},
   "outputs": [],
   "source": []
  }
 ],
 "metadata": {
  "kernelspec": {
   "display_name": "Python 3",
   "language": "python",
   "name": "python3"
  },
  "language_info": {
   "codemirror_mode": {
    "name": "ipython",
    "version": 3
   },
   "file_extension": ".py",
   "mimetype": "text/x-python",
   "name": "python",
   "nbconvert_exporter": "python",
   "pygments_lexer": "ipython3",
   "version": "3.7.4"
  }
 },
 "nbformat": 4,
 "nbformat_minor": 2
}
