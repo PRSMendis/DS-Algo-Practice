{
  "nbformat": 4,
  "nbformat_minor": 0,
  "metadata": {
    "colab": {
      "name": "challenge -3 Plus Minus",
      "provenance": [],
      "collapsed_sections": [],
      "include_colab_link": true
    },
    "kernelspec": {
      "name": "python3",
      "display_name": "Python 3"
    },
    "language_info": {
      "name": "python"
    }
  },
  "cells": [
    {
      "cell_type": "markdown",
      "metadata": {
        "id": "view-in-github",
        "colab_type": "text"
      },
      "source": [
        "<a href=\"https://colab.research.google.com/github/PRSMendis/DS-Algo-Practice/blob/master/challenge_3_Plus_Minus.ipynb\" target=\"_parent\"><img src=\"https://colab.research.google.com/assets/colab-badge.svg\" alt=\"Open In Colab\"/></a>"
      ]
    },
    {
      "cell_type": "markdown",
      "metadata": {
        "id": "7cM4zwY1fsCy"
      },
      "source": [
        "\n",
        "\n",
        "\n",
        "\n",
        "# Challenge 3 - Plus Minus\n",
        "Given an array of n integers, calculate the ratios of its elements that are positive, negative, and zero. The test cases are scaled to six decimal places."
      ]
    },
    {
      "cell_type": "markdown",
      "metadata": {
        "id": "TkX2s-JKfZqY"
      },
      "source": [
        "# Chong"
      ]
    },
    {
      "cell_type": "code",
      "metadata": {
        "id": "5A-fQEmvfeeg"
      },
      "source": [
        "def plusMinus(nums = [1,1,0,-1,-1]):\n",
        "  return [0.400000, 0.400000, 0.200000]"
      ],
      "execution_count": null,
      "outputs": []
    },
    {
      "cell_type": "markdown",
      "metadata": {
        "id": "owyJm8dRfdUH"
      },
      "source": [
        "# Atima"
      ]
    },
    {
      "cell_type": "code",
      "metadata": {
        "id": "27duK64k9ZTu"
      },
      "source": [
        ""
      ],
      "execution_count": null,
      "outputs": []
    },
    {
      "cell_type": "markdown",
      "metadata": {
        "id": "ZGEgj4xj9csP"
      },
      "source": [
        "# Test Cases"
      ]
    },
    {
      "cell_type": "code",
      "metadata": {
        "colab": {
          "base_uri": "https://localhost:8080/"
        },
        "id": "0GHBsWso9bv6",
        "outputId": "7097c2a9-ccda-4eb4-d733-8fb67bc59e56"
      },
      "source": [
        "import unittest\n",
        "\n",
        "\n",
        "\n",
        "class TestNotebook(unittest.TestCase):\n",
        "\n",
        "  def test_add(self):\n",
        "    self.assertEqual(plusMinus(),[0.400000, 0.400000, 0.200000] )\n",
        "\n",
        "unittest.main(argv=[''], verbosity=2, exit=False)"
      ],
      "execution_count": null,
      "outputs": [
        {
          "output_type": "stream",
          "name": "stderr",
          "text": [
            "test_add (__main__.TestNotebook) ... ok\n",
            "\n",
            "----------------------------------------------------------------------\n",
            "Ran 1 test in 0.003s\n",
            "\n",
            "OK\n"
          ]
        },
        {
          "output_type": "execute_result",
          "data": {
            "text/plain": [
              "<unittest.main.TestProgram at 0x7f8b7b4f5950>"
            ]
          },
          "metadata": {},
          "execution_count": 4
        }
      ]
    },
    {
      "cell_type": "code",
      "metadata": {
        "id": "vsUuVYii9_AK"
      },
      "source": [
        ""
      ],
      "execution_count": null,
      "outputs": []
    }
  ]
}